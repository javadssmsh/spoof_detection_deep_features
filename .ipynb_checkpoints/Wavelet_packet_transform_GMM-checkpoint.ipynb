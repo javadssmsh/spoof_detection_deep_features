{
 "cells": [
  {
   "cell_type": "code",
   "execution_count": 1,
   "metadata": {},
   "outputs": [],
   "source": [
    "import os\n",
    "os.environ[\"CUDA_DEVICE_ORDER\"]=\"PCI_BUS_ID\";\n",
    " \n",
    "# The GPU id to use, usually either \"0\" or \"1\";\n",
    "os.environ[\"CUDA_VISIBLE_DEVICES\"]=\"0\";  "
   ]
  },
  {
   "cell_type": "code",
   "execution_count": 2,
   "metadata": {},
   "outputs": [
    {
     "name": "stderr",
     "output_type": "stream",
     "text": [
      "Using TensorFlow backend.\n",
      "/media/hinton/work2.7/local/lib/python2.7/site-packages/librosa/__init__.py:40: DeprecationWarning: You are using librosa with Python 2. Please note that librosa 0.7 will be the last version to support Python 2, after which it will require Python 3 or later.\n",
      "  DeprecationWarning)\n"
     ]
    }
   ],
   "source": [
    "import keras \n",
    "import numpy as np\n",
    "import librosa as lb\n",
    "import sys\n",
    "import os\n",
    "# import pandas as pd\n",
    "from keras.utils.training_utils import multi_gpu_model\n",
    "from keras.utils import to_categorical,Sequence\n",
    "from keras.layers import Dense\n",
    "from keras.models import Sequential\n",
    "from keras.callbacks import History \n",
    "from keras.utils import plot_model,to_categorical\n",
    "from keras.optimizers import SGD\n",
    "from keras.callbacks import TensorBoard, ModelCheckpoint\n",
    "from keras.preprocessing.sequence import pad_sequences\n",
    "from sklearn.preprocessing import MinMaxScaler\n",
    "import numpy\n",
    "import scipy.io.wavfile\n",
    "from scipy.fftpack import dct\n",
    "# from iter_window import window \n",
    "import speechpy as sp\n",
    "# import statistics\n",
    "from keras import backend as K\n",
    "from keras.layers import Dense, Activation, Flatten\n",
    "from sklearn.preprocessing import StandardScaler\n"
   ]
  },
  {
   "cell_type": "code",
   "execution_count": 3,
   "metadata": {},
   "outputs": [],
   "source": [
    "import numpy as np\n",
    "import pywt\n",
    "import librosa as lb\n",
    "import speechpy as sp\n",
    "from keras.utils import plot_model,to_categorical"
   ]
  },
  {
   "cell_type": "code",
   "execution_count": 1,
   "metadata": {},
   "outputs": [],
   "source": [
    "def tkeo(a):\n",
    "\n",
    "    \"\"\"\n",
    "    Calculates the TKEO of a given recording by using 2 samples.\n",
    "    See Li et al., 2007\n",
    "    Arguments:\n",
    "    a \t\t\t--- 1D numpy array.\n",
    "    Returns:\n",
    "    1D numpy array containing the tkeo per sample\n",
    "    \"\"\"\n",
    "    # Create two temporary arrays of equal length, shifted 1 sample to the right\n",
    "    # and left and squared:\n",
    "    i = a[1:-1]*a[1:-1]\n",
    "    j = a[2:]*a[:-2]\n",
    "    # Calculate the difference between the two temporary arrays:\n",
    "    aTkeo = i-j\n",
    "    return aTkeo"
   ]
  },
  {
   "cell_type": "code",
   "execution_count": 4,
   "metadata": {},
   "outputs": [],
   "source": [
    "def mwpc(signal,sample_rate,num_ceps):\n",
    "    pre_emphasis = 0.97\n",
    "    frame_size = 0.025\n",
    "    frame_stride = 0.01\n",
    "    nfilt = 20\n",
    "    NFFT = 512\n",
    "    emphasized_signal = numpy.append(signal[0], signal[1:] - pre_emphasis * signal[:-1])\n",
    "    frame_length, frame_step = frame_size * sample_rate, frame_stride * sample_rate  # Convert from seconds to samples\n",
    "    signal_length = len(emphasized_signal)\n",
    "    frame_length = int(round(frame_length))\n",
    "    frame_step = int(round(frame_step))\n",
    "    num_frames = int(numpy.ceil(float(numpy.abs(signal_length - frame_length)) / frame_step))  # Make sure that we have at least 1 frame\n",
    "\n",
    "    pad_signal_length = num_frames * frame_step + frame_length\n",
    "    z = numpy.zeros((pad_signal_length - signal_length))\n",
    "    pad_signal = numpy.append(emphasized_signal, z) # Pad Signal to make sure that all frames have equal number of samples without truncating any samples from the original signal\n",
    "\n",
    "    indices = numpy.tile(numpy.arange(0, frame_length), (num_frames, 1)) + numpy.tile(numpy.arange(0, num_frames * frame_step, frame_step), (frame_length, 1)).T\n",
    "    frames = pad_signal[indices.astype(numpy.int32, copy=False)]\n",
    "    frames *= numpy.hamming(frame_length)\n",
    "    wptree = pywt.WaveletPacket(data=frames, wavelet='db5', mode='symmetric', maxlevel=level)\n",
    "    levels = wptree.get_level(level, order = \"freq\")            \n",
    "        \n",
    "    #Feature extraction for each node\n",
    "    features = []        \n",
    "    for node in levels:\n",
    "        data_wp = node.data\n",
    "        # Features group\n",
    "        features.extend(data_wp)\n",
    "    mag_frames = numpy.absolute(features)  # Magnitude of the FFT\n",
    "    pow_frames = numpy.abs((mag_frames) ** 2)\n",
    "    mel = lb.filters.mel(sr=sample_rate, n_fft=NFFT, n_mels=nfilt)\n",
    "    mel_scaled_features = mel.dot(pow_frames)\n",
    "    tke = tkeo(mel_scaled_features)\n",
    "    log_energy = numpy.log10(tke)\n",
    "    mwpc = \n",
    "    \n",
    "#     low_freq_mel = 0\n",
    "#     high_freq_mel = (2595 * numpy.log10(1 + (sample_rate / 2) / 700))  # Convert Hz to Mel\n",
    "#     mel_points = numpy.linspace(low_freq_mel, high_freq_mel, nfilt + 2)  # Equally spaced in Mel scale\n",
    "#     hz_points = (700 * (10**(mel_points / 2595) - 1))  # Convert Mel to Hz\n",
    "#     bin = numpy.floor((NFFT + 1) * hz_points / sample_rate)\n",
    "    \n",
    "#     fbank = numpy.zeros((nfilt, int(numpy.floor(NFFT / 2 + 1))))\n",
    "#     for m in range(1, nfilt + 1):\n",
    "#         f_m_minus = int(bin[m - 1])   # left\n",
    "#         f_m = int(bin[m])             # center\n",
    "#         f_m_plus = int(bin[m + 1])    # right\n",
    "    \n",
    "#         for k in range(f_m_minus, f_m):\n",
    "#             fbank[m - 1, k] = (k - bin[m - 1]) / (bin[m] - bin[m - 1])\n",
    "#         for k in range(f_m, f_m_plus):\n",
    "#             fbank[m - 1, k] = (bin[m + 1] - k) / (bin[m + 1] - bin[m])\n",
    "#     filter_banks = numpy.dot(pow_frames, fbank.T)\n",
    "#     filter_banks = numpy.where(filter_banks == 0, numpy.finfo(float).eps, filter_banks)  # Numerical Stability\n",
    "#     filter_banks = 20 * numpy.log10(filter_banks)  # dB\n",
    "#     mfcc = dct(filter_banks, type=2, axis=1,n=num_ceps, norm='ortho') # Keep 2-13\n",
    "    return mfcc"
   ]
  },
  {
   "cell_type": "code",
   "execution_count": 5,
   "metadata": {},
   "outputs": [],
   "source": [
    "def window( iterable, left, right, padding=0.0, step=1 ):\n",
    "   \n",
    "    from itertools import islice, repeat, chain\n",
    "    from collections import deque\n",
    "\n",
    "    n = left + right + 1\n",
    "\n",
    "    iterator = chain(iterable,repeat(padding,right)) \n",
    "    \n",
    "    elements = deque( repeat(padding,left), n )\n",
    "    elements.extend( islice( iterator, right - step + 1 ) )\n",
    "\n",
    "    while True: \n",
    "        for i in range(step):\n",
    "            elements.append( next(iterator) ) \n",
    "        yield tuple( elements ) \n"
   ]
  },
  {
   "cell_type": "code",
   "execution_count": 6,
   "metadata": {},
   "outputs": [],
   "source": [
    "class chunking_windowing(Sequence):\n",
    "    def __init__(self, data_train, train_labels, batch_size):\n",
    "        self.data_train = data_train\n",
    "        self.train_labels = train_labels\n",
    "        self.batch_size = batch_size\n",
    "        self.n = 0\n",
    "        self.max = self.__len__()\n",
    "        self.window_train = []\n",
    "    def __len__(self):\n",
    "        return np.ceil(len(self.data_train) / float(self.batch_size))\n",
    "\n",
    "    def __getitem__(self, idx):\n",
    "        batch_x = self.data_train[idx * self.batch_size:(idx + 1) * self.batch_size]\n",
    "        batch_y = self.train_labels[idx * self.batch_size:(idx + 1) * self.batch_size]\n",
    "#         print(batch_x[1],idx)\n",
    "        self.window_train = []\n",
    "        for i in batch_x:\n",
    "            self.window_train.append(np.array(list(window(np.array(i),7,7))).ravel())\n",
    "#         print(len(self.window_train),len(batch_y))\n",
    "        return np.array(self.window_train), np.array(batch_y)\n",
    "    def __next__(self):\n",
    "        if self.n >= self.max:\n",
    "            self.n = 0\n",
    "        result = self.__getitem__(self.n)\n",
    "        self.n += 1\n",
    "        return result"
   ]
  },
  {
   "cell_type": "code",
   "execution_count": 7,
   "metadata": {},
   "outputs": [],
   "source": [
    "train_labels = np.load(\"/media/hinton/F8E62A5EE62A1D7E/rohit/spoof/spoof_deep_features/train_label.npy\")\n",
    "trimmed_audio = np.load(\"/media/hinton/F8E62A5EE62A1D7E/rohit/spoof/original_datasets/npy_data_asvspoof/trimmed_audio.npy\")"
   ]
  },
  {
   "cell_type": "code",
   "execution_count": 8,
   "metadata": {},
   "outputs": [],
   "source": [
    "train_labels = np.load(\"/media/hinton/F8E62A5EE62A1D7E/rohit/spoof/spoof_deep_features/train_label.npy\")\n",
    "\n",
    "train_labels=list(train_labels)\n",
    "\n",
    "train_labels1 = list()\n",
    "for i in train_labels:\n",
    "    if i == b'human':\n",
    "        train_labels1.append(1)\n",
    "    else:\n",
    "        train_labels1.append(0)\n",
    "train_labels = to_categorical(train_labels1[:16000])"
   ]
  },
  {
   "cell_type": "markdown",
   "metadata": {},
   "source": [
    "# Trying to implement Wavelet packet transform"
   ]
  },
  {
   "cell_type": "code",
   "execution_count": 22,
   "metadata": {},
   "outputs": [],
   "source": [
    "def feature_extraction_wpd(trimmed_audio, level):\n",
    "    count = 0\n",
    "    # Sampling rate    \n",
    "    corpus = []\n",
    "    \n",
    "    for audio in trimmed_audio:        \n",
    "    \n",
    "        data = audio.astype(float)\n",
    "        \n",
    "        # Signal standarization\n",
    "        data_std = StandardScaler().fit_transform(data.reshape(-1,1)).reshape(1,-1)[0]            \n",
    "        \n",
    "        # WPD tree\n",
    "        wptree = pywt.WaveletPacket(data=data_std, wavelet='db5', mode='symmetric', maxlevel=level)\n",
    "        levels = wptree.get_level(level, order = \"freq\")            \n",
    "        \n",
    "        #Feature extraction for each node\n",
    "        features = []        \n",
    "        for node in levels:\n",
    "            data_wp = node.data\n",
    "            # Features group\n",
    "            features.extend(data_wp)\n",
    "        corpus.append(features)\n",
    "        count= count+1\n",
    "        if count%50==0:\n",
    "            print(count)\n",
    "    # Delate first row\n",
    "    return np.array(corpus)"
   ]
  },
  {
   "cell_type": "code",
   "execution_count": null,
   "metadata": {},
   "outputs": [
    {
     "name": "stdout",
     "output_type": "stream",
     "text": [
      "50\n",
      "100\n",
      "150\n",
      "200\n",
      "250\n",
      "300\n",
      "350\n",
      "400\n",
      "450\n",
      "500\n",
      "550\n",
      "600\n",
      "650\n",
      "700\n",
      "750\n",
      "800\n",
      "850\n"
     ]
    }
   ],
   "source": [
    "level = 15\n",
    "X_train = feature_extraction_wpd(trimmed_audio,level)"
   ]
  },
  {
   "cell_type": "code",
   "execution_count": null,
   "metadata": {},
   "outputs": [],
   "source": []
  }
 ],
 "metadata": {
  "kernelspec": {
   "display_name": "Python 2",
   "language": "python",
   "name": "python2"
  },
  "language_info": {
   "codemirror_mode": {
    "name": "ipython",
    "version": 2
   },
   "file_extension": ".py",
   "mimetype": "text/x-python",
   "name": "python",
   "nbconvert_exporter": "python",
   "pygments_lexer": "ipython2",
   "version": "2.7.12"
  }
 },
 "nbformat": 4,
 "nbformat_minor": 2
}
